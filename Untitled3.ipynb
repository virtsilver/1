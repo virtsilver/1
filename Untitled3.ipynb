{
  "nbformat": 4,
  "nbformat_minor": 0,
  "metadata": {
    "colab": {
      "private_outputs": true,
      "provenance": [],
      "authorship_tag": "ABX9TyNBsFnFczDxoThNdY1jrmy+",
      "include_colab_link": true
    },
    "kernelspec": {
      "name": "python3",
      "display_name": "Python 3"
    },
    "language_info": {
      "name": "python"
    }
  },
  "cells": [
    {
      "cell_type": "markdown",
      "metadata": {
        "id": "view-in-github",
        "colab_type": "text"
      },
      "source": [
        "<a href=\"https://colab.research.google.com/github/virtsilver/1/blob/main/Untitled3.ipynb\" target=\"_parent\"><img src=\"https://colab.research.google.com/assets/colab-badge.svg\" alt=\"Open In Colab\"/></a>"
      ]
    },
    {
      "cell_type": "code",
      "execution_count": null,
      "metadata": {
        "id": "xkEzrp5-yxsR"
      },
      "outputs": [],
      "source": [
        "def meuIMC (peso, altura):\n",
        "  'exibe relatório do IMC'\n",
        "  imc = peso / altura**2\n",
        "  if imc < 18.5:\n",
        "    print ('Abaixo do peso')\n",
        "  elif imc < 25:\n",
        "      print (Normal)\n",
        "  else:\n",
        "      print('Sobrepeso')\n"
      ]
    },
    {
      "cell_type": "code",
      "source": [],
      "metadata": {
        "id": "Gy6dFOxbFGJV"
      },
      "execution_count": null,
      "outputs": []
    },
    {
      "cell_type": "code",
      "source": [],
      "metadata": {
        "id": "DxslCh-nFGOe"
      },
      "execution_count": null,
      "outputs": []
    }
  ]
}